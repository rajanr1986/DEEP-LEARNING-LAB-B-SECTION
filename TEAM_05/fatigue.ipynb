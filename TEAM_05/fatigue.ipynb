{
 "cells": [
  {
   "cell_type": "code",
   "execution_count": 13,
   "id": "104bdc38-d82b-407a-a485-6ad245cf03b7",
   "metadata": {},
   "outputs": [
    {
     "name": "stdout",
     "output_type": "stream",
     "text": [
      "   Performance  Energy Level  Perf_bin  Energy_bin  Neuron_Fired\n",
      "0         0.63          1.00         1           1             1\n",
      "1         0.79          0.90         1           1             0\n",
      "2         0.60          0.81         1           1             1\n",
      "3         0.55          0.73         0           1             0\n",
      "4         0.48          0.66         0           1             0\n",
      "5         0.65          1.00         1           1             1\n",
      "6         0.68          0.90         1           1             0\n",
      "7         0.78          0.81         1           1             1\n",
      "8         0.55          0.73         0           1             0\n",
      "9         0.46          0.66         0           1             0\n"
     ]
    }
   ],
   "source": [
    "import pandas as pd\n",
    "\n",
    "file_path = \"Task_Fatigue.xlsx\"  \n",
    "df = pd.read_excel(file_path)\n",
    "\n",
    "df = df.iloc[:, -2:]\n",
    "\n",
    "df[\"Perf_bin\"] = (df[\"Performance\"] >= 0.6).astype(int)\n",
    "df[\"Energy_bin\"] = (df[\"Energy Level\"] >= 0.6).astype(int)\n",
    "\n",
    "base_threshold = 2\n",
    "fatigue = 0\n",
    "fatigue_increase = 1\n",
    "fatigue_decay = 1\n",
    "neuron_fired_last_time = False\n",
    "outputs = []\n",
    "\n",
    "for _, row in df.iterrows():\n",
    "    input_sum = row[\"Perf_bin\"] + row[\"Energy_bin\"]\n",
    "\n",
    "    if neuron_fired_last_time:\n",
    "        fatigue += fatigue_increase\n",
    "    else:\n",
    "        fatigue = max(0, fatigue - fatigue_decay)\n",
    "\n",
    "    dynamic_threshold = base_threshold + fatigue\n",
    "\n",
    "    if input_sum >= dynamic_threshold:\n",
    "        output = 1\n",
    "        neuron_fired_last_time = True\n",
    "    else:\n",
    "        output = 0\n",
    "        neuron_fired_last_time = False\n",
    "\n",
    "    outputs.append(output)\n",
    "\n",
    "df[\"Neuron_Fired\"] = outputs\n",
    "\n",
    "print(df.head(10))\n"
   ]
  },
  {
   "cell_type": "code",
   "execution_count": null,
   "id": "6d111743-5e43-438f-9702-78d2ae012083",
   "metadata": {},
   "outputs": [],
   "source": []
  }
 ],
 "metadata": {
  "kernelspec": {
   "display_name": "Python 3 (ipykernel)",
   "language": "python",
   "name": "python3"
  },
  "language_info": {
   "codemirror_mode": {
    "name": "ipython",
    "version": 3
   },
   "file_extension": ".py",
   "mimetype": "text/x-python",
   "name": "python",
   "nbconvert_exporter": "python",
   "pygments_lexer": "ipython3",
   "version": "3.12.4"
  }
 },
 "nbformat": 4,
 "nbformat_minor": 5
}
